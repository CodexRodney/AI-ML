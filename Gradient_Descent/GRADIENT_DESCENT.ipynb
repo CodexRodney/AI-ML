{
 "cells": [
  {
   "cell_type": "markdown",
   "id": "d363e5ca-b840-4e84-b050-4a222ba889ba",
   "metadata": {},
   "source": [
    "LEARNING GRADIENT DESCENT"
   ]
  },
  {
   "cell_type": "code",
   "execution_count": 7,
   "id": "c39f90de-2fc4-4d8b-b5c4-3301aa6ba6b8",
   "metadata": {},
   "outputs": [],
   "source": [
    "import numpy as np"
   ]
  },
  {
   "cell_type": "code",
   "execution_count": 8,
   "id": "889921ab-8463-4c9b-92b2-4f3a027b984a",
   "metadata": {},
   "outputs": [],
   "source": [
    "def sigmoid(x):\n",
    "    return 1/(1+np.exp(-x))"
   ]
  },
  {
   "cell_type": "code",
   "execution_count": 9,
   "id": "2a4f739b-1452-4d93-9283-55c5639367ac",
   "metadata": {},
   "outputs": [],
   "source": [
    "# Derivative of the sigmoid function\n",
    "def sigmoid_prime(x):\n",
    "    return sigmoid(x) * (1 - sigmoid(x))"
   ]
  },
  {
   "cell_type": "code",
   "execution_count": 10,
   "id": "64cad3a2-cbf5-4bac-a8f3-96366222692a",
   "metadata": {},
   "outputs": [
    {
     "name": "stdout",
     "output_type": "stream",
     "text": [
      "0.06999999999999998\n"
     ]
    },
    {
     "ename": "NameError",
     "evalue": "name 'Untitled2Untitled2Untitled2Untitled2' is not defined",
     "output_type": "error",
     "traceback": [
      "\u001b[0;31m---------------------------------------------------------------------------\u001b[0m",
      "\u001b[0;31mNameError\u001b[0m                                 Traceback (most recent call last)",
      "Cell \u001b[0;32mIn[10], line 20\u001b[0m\n\u001b[1;32m     18\u001b[0m \u001b[38;5;66;03m# output error ( y - y-hat)\u001b[39;00m\n\u001b[1;32m     19\u001b[0m error \u001b[38;5;241m=\u001b[39m y \u001b[38;5;241m-\u001b[39m nn_output\n\u001b[0;32m---> 20\u001b[0m \u001b[43mUntitled2Untitled2Untitled2Untitled2\u001b[49m\n\u001b[1;32m     21\u001b[0m \u001b[38;5;66;03m# output gradient (f'(h))\u001b[39;00m\n\u001b[1;32m     22\u001b[0m output_grad \u001b[38;5;241m=\u001b[39m sigmoid_prime(h)\n",
      "\u001b[0;31mNameError\u001b[0m: name 'Untitled2Untitled2Untitled2Untitled2' is not defined"
     ]
    }
   ],
   "source": [
    "# input data\n",
    "x = np.array([0.1, 0.3])\n",
    "# target\n",
    "y = 0.2\n",
    "# input to output weights\n",
    "weights = np.array([-0.8, 0.5])\n",
    "# the learning rate, eta in the weight step equation\n",
    "learnrate = 0.5\n",
    "\n",
    "# the linear combination performed by the node (h in f(h) and f'(h))\n",
    "h = x[0]*weights[0] + x[1]*weights[1]\n",
    "print(h)\n",
    "# or h = np.dot(x, weights)\n",
    "\n",
    "# the neural network output (y-hat)\n",
    "nn_output = sigmoid(h)\n",
    "\n",
    "# output error ( y - y-hat)\n",
    "error = y - nn_output\n",
    "\n",
    "# output gradient (f'(h))\n",
    "output_grad = sigmoid_prime(h)\n",
    "\n",
    "# error term (lowercase delta)\n",
    "error_term = error * output_grad\n",
    "\n",
    "# Gradient descent step\n",
    "del_w = [ learnrate * error_term * x[0], learnrate * error_term * x[1]]\n",
    "\n",
    "# or del_w = learnrate * error_term * x"
   ]
  }
 ],
 "metadata": {
  "kernelspec": {
   "display_name": "Python 3 (ipykernel)",
   "language": "python",
   "name": "python3"
  },
  "language_info": {
   "codemirror_mode": {
    "name": "ipython",
    "version": 3
   },
   "file_extension": ".py",
   "mimetype": "text/x-python",
   "name": "python",
   "nbconvert_exporter": "python",
   "pygments_lexer": "ipython3",
   "version": "3.8.10"
  }
 },
 "nbformat": 4,
 "nbformat_minor": 5
}
